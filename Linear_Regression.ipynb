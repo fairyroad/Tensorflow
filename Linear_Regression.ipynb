{
  "nbformat": 4,
  "nbformat_minor": 0,
  "metadata": {
    "colab": {
      "name": "Linear Regression.ipynb",
      "provenance": [],
      "mount_file_id": "1V-EmOTdbUoFNPAg0HJHCRfIo2sRFCqIf",
      "authorship_tag": "ABX9TyM7MR/1Psj3eWwqEB6XNWf+",
      "include_colab_link": true
    },
    "kernelspec": {
      "name": "python3",
      "display_name": "Python 3"
    }
  },
  "cells": [
    {
      "cell_type": "markdown",
      "metadata": {
        "id": "view-in-github",
        "colab_type": "text"
      },
      "source": [
        "<a href=\"https://colab.research.google.com/github/fairyroad/Tensorflow/blob/main/Linear_Regression.ipynb\" target=\"_parent\"><img src=\"https://colab.research.google.com/assets/colab-badge.svg\" alt=\"Open In Colab\"/></a>"
      ]
    },
    {
      "cell_type": "markdown",
      "metadata": {
        "id": "78gWX4_XVZdZ"
      },
      "source": [
        "#Linear Regression"
      ]
    },
    {
      "cell_type": "markdown",
      "metadata": {
        "id": "fKOg8bXqVjlr"
      },
      "source": [
        "1)cost function in python"
      ]
    },
    {
      "cell_type": "code",
      "metadata": {
        "id": "3goKNUa9VTrf"
      },
      "source": [
        "import numpy as np"
      ],
      "execution_count": 2,
      "outputs": []
    },
    {
      "cell_type": "code",
      "metadata": {
        "colab": {
          "base_uri": "https://localhost:8080/"
        },
        "id": "FWK1zbdFVpPM",
        "outputId": "815fe6b0-2c4d-492e-c3bd-483808c0cfce"
      },
      "source": [
        "x_data=np.array([1,2,3])\r\n",
        "y_data=np.array([1,2,3])\r\n",
        "\r\n",
        "def cost_func(W,x_data,y_data):\r\n",
        "  c=0\r\n",
        "  for i in range(len(x_data)):\r\n",
        "    c+=(W*x_data[i]-y_data[i])**2\r\n",
        "  return c/len(x_data)\r\n",
        "\r\n",
        "for feed_W in np.linspace(-3,5,num=15):\r\n",
        "  curr_cost=cost_func(feed_W,x_data,y_data)\r\n",
        "  print('{:6.3f} | {:10.5f}'.format(feed_W, curr_cost))"
      ],
      "execution_count": 46,
      "outputs": [
        {
          "output_type": "stream",
          "text": [
            "-3.000 |   74.66667\n",
            "-2.429 |   54.85714\n",
            "-1.857 |   38.09524\n",
            "-1.286 |   24.38095\n",
            "-0.714 |   13.71429\n",
            "-0.143 |    6.09524\n",
            " 0.429 |    1.52381\n",
            " 1.000 |    0.00000\n",
            " 1.571 |    1.52381\n",
            " 2.143 |    6.09524\n",
            " 2.714 |   13.71429\n",
            " 3.286 |   24.38095\n",
            " 3.857 |   38.09524\n",
            " 4.429 |   54.85714\n",
            " 5.000 |   74.66667\n"
          ],
          "name": "stdout"
        }
      ]
    },
    {
      "cell_type": "markdown",
      "metadata": {
        "id": "rlfBkKX3b-SJ"
      },
      "source": [
        "2)cost function in tensorflow"
      ]
    },
    {
      "cell_type": "code",
      "metadata": {
        "id": "H2UUR2tlb9V7"
      },
      "source": [
        "import tensorflow as tf\r\n",
        "import numpy as np"
      ],
      "execution_count": 42,
      "outputs": []
    },
    {
      "cell_type": "code",
      "metadata": {
        "colab": {
          "base_uri": "https://localhost:8080/"
        },
        "id": "_n_N7-7hc1r-",
        "outputId": "dcad5ed2-7228-4c72-ebfe-bfa88c0be328"
      },
      "source": [
        "X = np.array([1, 2, 3])\r\n",
        "Y = np.array([1, 2, 3])\r\n",
        "\r\n",
        "def cost_func(W, X, Y):\r\n",
        "  hypothesis = X * W\r\n",
        "  return tf.reduce_mean(tf.square(hypothesis - Y))\r\n",
        "\r\n",
        "W_values = np.linspace(-3, 5, num=15)\r\n",
        "cost_values = []\r\n",
        "\r\n",
        "for feed_W in W_values:\r\n",
        "    curr_cost = cost_func(feed_W, X, Y)\r\n",
        "    cost_values.append(curr_cost)\r\n",
        "    print(\"{:6.3f} | {:10.5f}\".format(feed_W, curr_cost))\r\n"
      ],
      "execution_count": 43,
      "outputs": [
        {
          "output_type": "stream",
          "text": [
            "-3.000 |   74.66667\n",
            "-2.429 |   54.85714\n",
            "-1.857 |   38.09524\n",
            "-1.286 |   24.38095\n",
            "-0.714 |   13.71429\n",
            "-0.143 |    6.09524\n",
            " 0.429 |    1.52381\n",
            " 1.000 |    0.00000\n",
            " 1.571 |    1.52381\n",
            " 2.143 |    6.09524\n",
            " 2.714 |   13.71429\n",
            " 3.286 |   24.38095\n",
            " 3.857 |   38.09524\n",
            " 4.429 |   54.85714\n",
            " 5.000 |   74.66667\n"
          ],
          "name": "stdout"
        }
      ]
    },
    {
      "cell_type": "markdown",
      "metadata": {
        "id": "51KdlHPvhNjr"
      },
      "source": [
        "3)Gradient descent"
      ]
    },
    {
      "cell_type": "code",
      "metadata": {
        "colab": {
          "base_uri": "https://localhost:8080/"
        },
        "id": "ntWH80o5h6bG",
        "outputId": "d80d7fb1-fe3a-4558-b1ed-5647b7186123"
      },
      "source": [
        "import tensorflow as tf\r\n",
        "import numpy as np\r\n",
        "\r\n",
        "#for reproducibility\r\n",
        "tf.random.set_seed(0)\r\n",
        "\r\n",
        "x_data=[1.,2.,3.,4.]\r\n",
        "y_data=[1.,3.,5.,7.]\r\n",
        "\r\n",
        "W=tf.Variable(tf.random.normal((1,),-100.,100.))\r\n",
        "\r\n",
        "for step in range(300):\r\n",
        "  hypothesis=W*x_data\r\n",
        "  cost=tf.reduce_mean(tf.square(hypothesis-y_data))\r\n",
        "  alpha=0.01\r\n",
        "  gradient=tf.reduce_mean(tf.multiply(tf.multiply(W,x_data)-y_data,x_data))\r\n",
        "  descent=W-tf.multiply(alpha,gradient)\r\n",
        "  W.assign(descent)\r\n",
        "  \r\n",
        "  if step%10==0:\r\n",
        "    print('{:5} | {:10.4f} | {:10.6f}'.format(step,cost.numpy(),W.numpy()[0]))"
      ],
      "execution_count": 59,
      "outputs": [
        {
          "output_type": "stream",
          "text": [
            "    0 | 18332.2188 |  47.398293\n",
            "   10 |  3855.3564 |  22.638384\n",
            "   20 |   810.9046 |  11.283927\n",
            "   30 |   170.6631 |   6.076973\n",
            "   40 |    36.0217 |   3.689155\n",
            "   50 |     7.7069 |   2.594144\n",
            "   60 |     1.7524 |   2.091991\n",
            "   70 |     0.5001 |   1.861713\n",
            "   80 |     0.2368 |   1.756112\n",
            "   90 |     0.1814 |   1.707684\n",
            "  100 |     0.1698 |   1.685477\n",
            "  110 |     0.1673 |   1.675292\n",
            "  120 |     0.1668 |   1.670622\n",
            "  130 |     0.1667 |   1.668481\n",
            "  140 |     0.1667 |   1.667498\n",
            "  150 |     0.1667 |   1.667048\n",
            "  160 |     0.1667 |   1.666842\n",
            "  170 |     0.1667 |   1.666747\n",
            "  180 |     0.1667 |   1.666703\n",
            "  190 |     0.1667 |   1.666684\n",
            "  200 |     0.1667 |   1.666674\n",
            "  210 |     0.1667 |   1.666670\n",
            "  220 |     0.1667 |   1.666668\n",
            "  230 |     0.1667 |   1.666667\n",
            "  240 |     0.1667 |   1.666667\n",
            "  250 |     0.1667 |   1.666667\n",
            "  260 |     0.1667 |   1.666667\n",
            "  270 |     0.1667 |   1.666667\n",
            "  280 |     0.1667 |   1.666667\n",
            "  290 |     0.1667 |   1.666667\n"
          ],
          "name": "stdout"
        }
      ]
    },
    {
      "cell_type": "markdown",
      "metadata": {
        "id": "t48TvgJSnuSs"
      },
      "source": [
        "4)output check when w=4"
      ]
    },
    {
      "cell_type": "code",
      "metadata": {
        "colab": {
          "base_uri": "https://localhost:8080/"
        },
        "id": "z0YuP8tynxNl",
        "outputId": "f5ef398b-bf40-456e-8966-ae729dda0cb3"
      },
      "source": [
        "tf.random.set_seed(0)\r\n",
        "\r\n",
        "x_data=[1.,2.,3.,4.]\r\n",
        "y_data=[1.,3.,5.,7.]\r\n",
        "\r\n",
        "W=tf.Variable([4.0])\r\n",
        "\r\n",
        "for step in range(300):\r\n",
        "  hypothesis=W*x_data\r\n",
        "  cost=tf.reduce_mean(tf.square(hypothesis-y_data))\r\n",
        "  alpha=0.01\r\n",
        "  gradient=tf.reduce_mean(tf.multiply(tf.multiply(W,x_data)-y_data,x_data))\r\n",
        "  descent=W-tf.multiply(alpha,gradient)\r\n",
        "  W.assign(descent)\r\n",
        "  \r\n",
        "  if step%10==0:\r\n",
        "    print('{:5} | {:10.4f} | {:10.6f}'.format(step,cost.numpy(),W.numpy()[0]))"
      ],
      "execution_count": 63,
      "outputs": [
        {
          "output_type": "stream",
          "text": [
            "    0 |    41.0000 |   3.825000\n",
            "   10 |     8.7538 |   2.656440\n",
            "   20 |     1.9725 |   2.120559\n",
            "   30 |     0.5464 |   1.874814\n",
            "   40 |     0.2465 |   1.762119\n",
            "   50 |     0.1835 |   1.710440\n",
            "   60 |     0.1702 |   1.686740\n",
            "   70 |     0.1674 |   1.675872\n",
            "   80 |     0.1668 |   1.670888\n",
            "   90 |     0.1667 |   1.668602\n",
            "  100 |     0.1667 |   1.667554\n",
            "  110 |     0.1667 |   1.667074\n",
            "  120 |     0.1667 |   1.666853\n",
            "  130 |     0.1667 |   1.666752\n",
            "  140 |     0.1667 |   1.666706\n",
            "  150 |     0.1667 |   1.666685\n",
            "  160 |     0.1667 |   1.666675\n",
            "  170 |     0.1667 |   1.666670\n",
            "  180 |     0.1667 |   1.666668\n",
            "  190 |     0.1667 |   1.666667\n",
            "  200 |     0.1667 |   1.666667\n",
            "  210 |     0.1667 |   1.666667\n",
            "  220 |     0.1667 |   1.666667\n",
            "  230 |     0.1667 |   1.666667\n",
            "  240 |     0.1667 |   1.666667\n",
            "  250 |     0.1667 |   1.666667\n",
            "  260 |     0.1667 |   1.666667\n",
            "  270 |     0.1667 |   1.666667\n",
            "  280 |     0.1667 |   1.666667\n",
            "  290 |     0.1667 |   1.666667\n"
          ],
          "name": "stdout"
        }
      ]
    },
    {
      "cell_type": "markdown",
      "metadata": {
        "id": "mNeZ43k3oN1f"
      },
      "source": [
        "5)output check when w=5"
      ]
    },
    {
      "cell_type": "code",
      "metadata": {
        "colab": {
          "base_uri": "https://localhost:8080/"
        },
        "id": "bzOLq-CyoQ9T",
        "outputId": "e300d011-0fad-41e9-e238-c80ea7503100"
      },
      "source": [
        "tf.random.set_seed(0)\r\n",
        "\r\n",
        "x_data=[1.,2.,3.,4.]\r\n",
        "y_data=[1.,3.,5.,7.]\r\n",
        "\r\n",
        "W=tf.Variable([5.0])\r\n",
        "\r\n",
        "for step in range(300):\r\n",
        "  hypothesis=W*x_data\r\n",
        "  cost=tf.reduce_mean(tf.square(hypothesis-y_data))\r\n",
        "  alpha=0.01\r\n",
        "  gradient=tf.reduce_mean(tf.multiply(tf.multiply(W,x_data)-y_data,x_data))\r\n",
        "  descent=W-tf.multiply(alpha,gradient)\r\n",
        "  W.assign(descent)\r\n",
        "  \r\n",
        "  if step%10==0:\r\n",
        "    print('{:5} | {:10.4f} | {:10.6f}'.format(step,cost.numpy(),W.numpy()[0]))"
      ],
      "execution_count": 64,
      "outputs": [
        {
          "output_type": "stream",
          "text": [
            "    0 |    83.5000 |   4.750000\n",
            "   10 |    17.6915 |   3.080629\n",
            "   20 |     3.8521 |   2.315085\n",
            "   30 |     0.9417 |   1.964020\n",
            "   40 |     0.3297 |   1.803027\n",
            "   50 |     0.2009 |   1.729199\n",
            "   60 |     0.1739 |   1.695343\n",
            "   70 |     0.1682 |   1.679817\n",
            "   80 |     0.1670 |   1.672697\n",
            "   90 |     0.1667 |   1.669432\n",
            "  100 |     0.1667 |   1.667935\n",
            "  110 |     0.1667 |   1.667248\n",
            "  120 |     0.1667 |   1.666933\n",
            "  130 |     0.1667 |   1.666789\n",
            "  140 |     0.1667 |   1.666723\n",
            "  150 |     0.1667 |   1.666692\n",
            "  160 |     0.1667 |   1.666678\n",
            "  170 |     0.1667 |   1.666672\n",
            "  180 |     0.1667 |   1.666669\n",
            "  190 |     0.1667 |   1.666668\n",
            "  200 |     0.1667 |   1.666667\n",
            "  210 |     0.1667 |   1.666667\n",
            "  220 |     0.1667 |   1.666667\n",
            "  230 |     0.1667 |   1.666667\n",
            "  240 |     0.1667 |   1.666667\n",
            "  250 |     0.1667 |   1.666667\n",
            "  260 |     0.1667 |   1.666667\n",
            "  270 |     0.1667 |   1.666667\n",
            "  280 |     0.1667 |   1.666667\n",
            "  290 |     0.1667 |   1.666667\n"
          ],
          "name": "stdout"
        }
      ]
    }
  ]
}