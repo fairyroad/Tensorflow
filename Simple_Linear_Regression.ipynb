{
  "nbformat": 4,
  "nbformat_minor": 0,
  "metadata": {
    "colab": {
      "name": "Simple Linear Regression.ipynb",
      "provenance": [],
      "mount_file_id": "1suSXGcw3p4xMO1DgS5XwRHQwyiJxaRD2",
      "authorship_tag": "ABX9TyMBlD7B76mFmVUW94NTOubT",
      "include_colab_link": true
    },
    "kernelspec": {
      "name": "python3",
      "display_name": "Python 3"
    }
  },
  "cells": [
    {
      "cell_type": "markdown",
      "metadata": {
        "id": "view-in-github",
        "colab_type": "text"
      },
      "source": [
        "<a href=\"https://colab.research.google.com/github/fairyroad/Tensorflow/blob/main/Simple_Linear_Regression.ipynb\" target=\"_parent\"><img src=\"https://colab.research.google.com/assets/colab-badge.svg\" alt=\"Open In Colab\"/></a>"
      ]
    },
    {
      "cell_type": "markdown",
      "metadata": {
        "id": "FO7YJ1URj2qf"
      },
      "source": [
        "#Simple Linear Regression 실습"
      ]
    },
    {
      "cell_type": "code",
      "metadata": {
        "id": "CaYowJd3fVV5"
      },
      "source": [
        "import tensorflow as tf"
      ],
      "execution_count": 8,
      "outputs": []
    },
    {
      "cell_type": "code",
      "metadata": {
        "id": "4RVodTzfeQCQ"
      },
      "source": [
        "x_data=[1,2,3,4,5]\r\n",
        "y_data=[1,2,3,4,5]\r\n",
        "\r\n",
        "#initialize W,b\r\n",
        "W=tf.Variable(2.9)\r\n",
        "b=tf.Variable(0.5)\r\n",
        "\r\n",
        "#learning rate initialize\r\n",
        "learning_rate=0.01"
      ],
      "execution_count": 11,
      "outputs": []
    },
    {
      "cell_type": "code",
      "metadata": {
        "colab": {
          "base_uri": "https://localhost:8080/"
        },
        "id": "gtWNGGpQluhg",
        "outputId": "ef03464c-88d4-49c8-d4cb-7c58441d92fd"
      },
      "source": [
        "#Gradient descent\r\n",
        "for i in range(100):\r\n",
        "  with tf.GradientTape() as tape:\r\n",
        "    hypothesis=W*x_data+b\r\n",
        "    cost=tf.reduce_mean(tf.square(hypothesis-y_data))\r\n",
        "  W_grad,b_grad=tape.gradient(cost,[W,b])\r\n",
        "  W.assign_sub(learning_rate*W_grad)\r\n",
        "  b.assign_sub(learning_rate*b_grad)\r\n",
        "  if i%10==0:\r\n",
        "    print(\"{:5}|{:10.4f}|{:10.4}|{:10.6f}\".format(i,W.numpy(),b.numpy(),cost))\r\n"
      ],
      "execution_count": 13,
      "outputs": [
        {
          "output_type": "stream",
          "text": [
            "    0|    2.1100|    0.2814| 26.608438\n",
            "   10|    1.0806| -0.002888|  0.120284\n",
            "   20|    1.0113|  -0.02127|  0.000637\n",
            "   30|    1.0064|   -0.0218|  0.000090\n",
            "   40|    1.0059|  -0.02116|  0.000082\n",
            "   50|    1.0057|  -0.02046|  0.000077\n",
            "   60|    1.0055|  -0.01978|  0.000072\n",
            "   70|    1.0053|  -0.01912|  0.000067\n",
            "   80|    1.0051|  -0.01848|  0.000063\n",
            "   90|    1.0049|  -0.01787|  0.000058\n"
          ],
          "name": "stdout"
        }
      ]
    }
  ]
}