{
  "nbformat": 4,
  "nbformat_minor": 0,
  "metadata": {
    "colab": {
      "name": "pyforML_day1.ipynb",
      "provenance": [],
      "authorship_tag": "ABX9TyN9pKJLikIekhIdDXlLKjfy",
      "include_colab_link": true
    },
    "kernelspec": {
      "name": "python3",
      "display_name": "Python 3"
    }
  },
  "cells": [
    {
      "cell_type": "markdown",
      "metadata": {
        "id": "view-in-github",
        "colab_type": "text"
      },
      "source": [
        "<a href=\"https://colab.research.google.com/github/fairyroad/Tensorflow/blob/main/Python_For_ML_day1.ipynb\" target=\"_parent\"><img src=\"https://colab.research.google.com/assets/colab-badge.svg\" alt=\"Open In Colab\"/></a>"
      ]
    },
    {
      "cell_type": "markdown",
      "metadata": {
        "id": "OarioZ9rnWiq"
      },
      "source": [
        "1.Split&join"
      ]
    },
    {
      "cell_type": "code",
      "metadata": {
        "colab": {
          "base_uri": "https://localhost:8080/"
        },
        "id": "QsxZdfMJnHIx",
        "outputId": "76b9e649-8ee3-4bd2-ea5f-b4a868b97354"
      },
      "source": [
        "#Use split\r\n",
        "sentence=\"I want to study python\".split()\r\n",
        "print(sentence)\r\n",
        "\r\n",
        "example='who,is,that,girl'.split(\",\")\r\n",
        "print(example)\r\n",
        "\r\n",
        "a,b,c=\"www.naver.com\".split(\".\")\r\n",
        "print(a,b,c)\r\n",
        "\r\n",
        "#Use join\r\n",
        "color=['red','blue','green','purple']\r\n",
        "test=' '.join(color)\r\n",
        "print(test)\r\n",
        "test=', '.join(color)\r\n",
        "print(test)\r\n",
        "test='-'.join(color)\r\n",
        "print(test)"
      ],
      "execution_count": 8,
      "outputs": [
        {
          "output_type": "stream",
          "text": [
            "['I', 'want', 'to', 'study', 'python']\n",
            "['who', 'is', 'that', 'girl']\n",
            "www naver com\n",
            "red blue green purple\n",
            "red, blue, green, purple\n",
            "red-blue-green-purple\n"
          ],
          "name": "stdout"
        }
      ]
    },
    {
      "cell_type": "markdown",
      "metadata": {
        "id": "QBbboS1Rplli"
      },
      "source": [
        "2.List comprehension"
      ]
    },
    {
      "cell_type": "code",
      "metadata": {
        "colab": {
          "base_uri": "https://localhost:8080/"
        },
        "id": "HaJEHleRpo96",
        "outputId": "9ec2221d-7f67-4cc5-8d01-db3f308d5348"
      },
      "source": [
        "#exampe1\r\n",
        "\r\n",
        "#기존코드\r\n",
        "result=[]\r\n",
        "for i in range(10):\r\n",
        "  result.append(i)\r\n",
        "print(result)\r\n",
        "\r\n",
        "#List comprehension 사용한 코드\r\n",
        "result=[i for i in range(10)]\r\n",
        "print(result)\r\n",
        "\r\n",
        "#example2\r\n",
        "\r\n",
        "result=[i for i in range(10) if i%2==0]\r\n",
        "print(result)\r\n",
        "\r\n",
        "#example3(1 dimension)\r\n",
        "word1=[\"A\",\"B\",\"C\"]\r\n",
        "word2=[\"D\",\"E\",\"F\"]\r\n",
        "result=[ a+b for a in word1 for b in word2]\r\n",
        "print(result)\r\n",
        "\r\n",
        "#example4(2 dimension)\r\n",
        "result=[[a+b for a in word1]for b in word2]\r\n",
        "print(result)\r\n",
        "\r\n",
        "#example5\r\n",
        "word='The quick brown fox jumps over the lazy dog'.split()\r\n",
        "print(word)\r\n",
        "result=[[w.upper(),w.lower(),w] for w in word]\r\n",
        "print(result)"
      ],
      "execution_count": 14,
      "outputs": [
        {
          "output_type": "stream",
          "text": [
            "[0, 1, 2, 3, 4, 5, 6, 7, 8, 9]\n",
            "[0, 1, 2, 3, 4, 5, 6, 7, 8, 9]\n",
            "[0, 2, 4, 6, 8]\n",
            "['AD', 'AE', 'AF', 'BD', 'BE', 'BF', 'CD', 'CE', 'CF']\n",
            "[['AD', 'BD', 'CD'], ['AE', 'BE', 'CE'], ['AF', 'BF', 'CF']]\n",
            "['The', 'quick', 'brown', 'fox', 'jumps', 'over', 'the', 'lazy', 'dog']\n",
            "[['THE', 'the', 'The'], ['QUICK', 'quick', 'quick'], ['BROWN', 'brown', 'brown'], ['FOX', 'fox', 'fox'], ['JUMPS', 'jumps', 'jumps'], ['OVER', 'over', 'over'], ['THE', 'the', 'the'], ['LAZY', 'lazy', 'lazy'], ['DOG', 'dog', 'dog']]\n"
          ],
          "name": "stdout"
        }
      ]
    }
  ]
}