{
  "nbformat": 4,
  "nbformat_minor": 0,
  "metadata": {
    "colab": {
      "name": "Multi variable linear regression.ipynb",
      "provenance": [],
      "authorship_tag": "ABX9TyMVoT06CCnKapahZQzSRJDj",
      "include_colab_link": true
    },
    "kernelspec": {
      "name": "python3",
      "display_name": "Python 3"
    }
  },
  "cells": [
    {
      "cell_type": "markdown",
      "metadata": {
        "id": "view-in-github",
        "colab_type": "text"
      },
      "source": [
        "<a href=\"https://colab.research.google.com/github/fairyroad/Tensorflow/blob/main/Multi_variable_linear_regression.ipynb\" target=\"_parent\"><img src=\"https://colab.research.google.com/assets/colab-badge.svg\" alt=\"Open In Colab\"/></a>"
      ]
    },
    {
      "cell_type": "markdown",
      "metadata": {
        "id": "Xfd3hwtKgnS1"
      },
      "source": [
        "#Multi-variable linear regression Lab"
      ]
    },
    {
      "cell_type": "code",
      "metadata": {
        "id": "pWraN-bTn-1v"
      },
      "source": [
        "import tensorflow as tf\r\n",
        "import numpy as np"
      ],
      "execution_count": 4,
      "outputs": []
    },
    {
      "cell_type": "code",
      "metadata": {
        "colab": {
          "base_uri": "https://localhost:8080/"
        },
        "id": "RuzRPtyKgbst",
        "outputId": "5e6d9bf4-d518-4892-d580-1f20c727c3ef"
      },
      "source": [
        "#dot product 사용 안함\r\n",
        "x1=[73.,93.,89.,96.,73.]\r\n",
        "x2=[80.,88.,91.,98.,66.]\r\n",
        "x3=[75.,93.,90.,100.,70.]\r\n",
        "y=[152.,185.,180.,196.,142.]\r\n",
        "\r\n",
        "w1=tf.Variable(tf.random.normal([1]))\r\n",
        "w2=tf.Variable(tf.random.normal([1]))\r\n",
        "w3=tf.Variable(tf.random.normal([1]))\r\n",
        "b=tf.Variable(tf.random.normal([1]))\r\n",
        "\r\n",
        "learning_rate=0.000001\r\n",
        "\r\n",
        "for i in range(1000+1):\r\n",
        "  with tf.GradientTape() as tape:\r\n",
        "    hypothesis=x1*w1+x2*w2+x3*w3+b\r\n",
        "    cost=tf.reduce_mean(tf.square(hypothesis-y))\r\n",
        "  w1_grad,w2_grad,w3_grad,b_grad=tape.gradient(cost,[w1,w2,w3,b])\r\n",
        "\r\n",
        "  w1.assign_sub(learning_rate*w1_grad)\r\n",
        "  w2.assign_sub(learning_rate*w2_grad)\r\n",
        "  w3.assign_sub(learning_rate*w3_grad)\r\n",
        "  b.assign_sub(learning_rate*b_grad)\r\n",
        "\r\n",
        "  if i%50==0:\r\n",
        "    print(\"{:5} | {:12.4f}\".format(i,cost.numpy()))"
      ],
      "execution_count": 14,
      "outputs": [
        {
          "output_type": "stream",
          "text": [
            "    0 |    1637.7617\n",
            "   50 |      32.1357\n",
            "  100 |      14.2828\n",
            "  150 |      14.0479\n",
            "  200 |      14.0086\n",
            "  250 |      13.9716\n",
            "  300 |      13.9346\n",
            "  350 |      13.8978\n",
            "  400 |      13.8610\n",
            "  450 |      13.8244\n",
            "  500 |      13.7880\n",
            "  550 |      13.7515\n",
            "  600 |      13.7152\n",
            "  650 |      13.6790\n",
            "  700 |      13.6429\n",
            "  750 |      13.6069\n",
            "  800 |      13.5710\n",
            "  850 |      13.5351\n",
            "  900 |      13.4994\n",
            "  950 |      13.4638\n",
            " 1000 |      13.4282\n"
          ],
          "name": "stdout"
        }
      ]
    },
    {
      "cell_type": "code",
      "metadata": {
        "colab": {
          "base_uri": "https://localhost:8080/"
        },
        "id": "2o3zkXiro502",
        "outputId": "5ecbce0a-2db4-4088-f1ab-4f0915663b59"
      },
      "source": [
        "#dot product 사용함\r\n",
        "data=np.array([\r\n",
        "  [73.,80.,75.,152.],\r\n",
        "  [93.,88.,93.,185.],\r\n",
        "  [89.,91.,90.,180.],\r\n",
        "  [96.,98.,100.,196.],\r\n",
        "  [73.,66.,70.,142.]\r\n",
        "],dtype=np.float32)\r\n",
        "\r\n",
        "#slice data\r\n",
        "#x -> except last one\r\n",
        "x=data[:,:-1]\r\n",
        "y=data[:,[-1]]\r\n",
        "\r\n",
        "#initialize\r\n",
        "w=tf.Variable(tf.random.normal([3,1]))\r\n",
        "b=tf.Variable(tf.random.normal([1]))\r\n",
        "\r\n",
        "epochs=2000\r\n",
        "learning_rate=0.00001\r\n",
        "\r\n",
        "for i in range(epochs+1):\r\n",
        "  with tf.GradientTape() as tape:\r\n",
        "    hypothesis=tf.matmul(x,w)+b\r\n",
        "    cost=tf.reduce_mean(tf.square(hypothesis-y))\r\n",
        "  w_grad,b_grad=tape.gradient(cost,[w,b])\r\n",
        "\r\n",
        "  #update parameters\r\n",
        "  w.assign_sub(learning_rate*w_grad)\r\n",
        "  b.assign_sub(learning_rate*b_grad)\r\n",
        "\r\n",
        "  #print\r\n",
        "  if i%100==0:\r\n",
        "    print(\"{:5} | {:10.4f}\".format(i,cost.numpy()))"
      ],
      "execution_count": 25,
      "outputs": [
        {
          "output_type": "stream",
          "text": [
            "    0 | 49205.8242\n",
            "  100 |     8.7345\n",
            "  200 |     8.3384\n",
            "  300 |     7.9630\n",
            "  400 |     7.6070\n",
            "  500 |     7.2696\n",
            "  600 |     6.9497\n",
            "  700 |     6.6464\n",
            "  800 |     6.3588\n",
            "  900 |     6.0862\n",
            " 1000 |     5.8276\n",
            " 1100 |     5.5825\n",
            " 1200 |     5.3500\n",
            " 1300 |     5.1295\n",
            " 1400 |     4.9204\n",
            " 1500 |     4.7221\n",
            " 1600 |     4.5340\n",
            " 1700 |     4.3555\n",
            " 1800 |     4.1862\n",
            " 1900 |     4.0256\n",
            " 2000 |     3.8732\n"
          ],
          "name": "stdout"
        }
      ]
    },
    {
      "cell_type": "markdown",
      "metadata": {
        "id": "u0EJtPo1gmal"
      },
      "source": [
        ""
      ]
    }
  ]
}