{
  "nbformat": 4,
  "nbformat_minor": 0,
  "metadata": {
    "colab": {
      "name": "Python_For_ML_day2.ipynb",
      "provenance": [],
      "authorship_tag": "ABX9TyOPKqU4CqTV/wAh2QaIsph/",
      "include_colab_link": true
    },
    "kernelspec": {
      "name": "python3",
      "display_name": "Python 3"
    }
  },
  "cells": [
    {
      "cell_type": "markdown",
      "metadata": {
        "id": "view-in-github",
        "colab_type": "text"
      },
      "source": [
        "<a href=\"https://colab.research.google.com/github/fairyroad/Tensorflow/blob/main/Python_For_ML_day2.ipynb\" target=\"_parent\"><img src=\"https://colab.research.google.com/assets/colab-badge.svg\" alt=\"Open In Colab\"/></a>"
      ]
    },
    {
      "cell_type": "markdown",
      "metadata": {
        "id": "HPS5-91rwixc"
      },
      "source": [
        "1)Enumerate&Zip  \r\n",
        "Enumerate는 List의 element추출할때 번호를 붙여서 추출하는 것!!  \r\n",
        "Zip은 두개의 list값을 병렬적으로 추출하는 것 !!  \r\n",
        "python3에서는 아래에 나올 내용들이 권장되지 않음 ㅠㅠ"
      ]
    },
    {
      "cell_type": "code",
      "metadata": {
        "colab": {
          "base_uri": "https://localhost:8080/"
        },
        "id": "OXNiQO_Tve6T",
        "outputId": "be2aed16-d950-4559-9bad-f9e1f4b3fc4e"
      },
      "source": [
        "#Enumerate\r\n",
        "for i,v in enumerate(['hi','good','evening']):\r\n",
        "  print(i,v)\r\n",
        "\r\n",
        "mylist=[\"a\",\"b\",\"c\",\"d\"]\r\n",
        "for i,v in enumerate(mylist):\r\n",
        "  print(i,v)\r\n",
        "\r\n",
        "#dict + Enumerate\r\n",
        "{i:j for i,j in enumerate('Seoul is a good place to live'.split())}"
      ],
      "execution_count": 3,
      "outputs": [
        {
          "output_type": "stream",
          "text": [
            "0 hi\n",
            "1 good\n",
            "2 evening\n",
            "0 a\n",
            "1 b\n",
            "2 c\n",
            "3 d\n"
          ],
          "name": "stdout"
        },
        {
          "output_type": "execute_result",
          "data": {
            "text/plain": [
              "{0: 'Seoul', 1: 'is', 2: 'a', 3: 'good', 4: 'place', 5: 'to', 6: 'live'}"
            ]
          },
          "metadata": {
            "tags": []
          },
          "execution_count": 3
        }
      ]
    },
    {
      "cell_type": "code",
      "metadata": {
        "colab": {
          "base_uri": "https://localhost:8080/"
        },
        "id": "-_r90-IFyM4y",
        "outputId": "ce100d92-e560-4c7e-f4e9-80cf9b7ffa6a"
      },
      "source": [
        "#Zip\r\n",
        "alist=['a1','a2','a3']\r\n",
        "blist=['b1','b2','b3']\r\n",
        "for a,b in zip(alist,blist):\r\n",
        "  print(a,b)\r\n",
        "\r\n",
        "a,b,c=zip([10,20,30],[1,2,3],[40,50,60])\r\n",
        "print(a,b,c)\r\n",
        "\r\n",
        "[sum(x) for x in zip((1,2,3),(10,20,30),(100,200,300))]"
      ],
      "execution_count": 9,
      "outputs": [
        {
          "output_type": "stream",
          "text": [
            "a1 b1\n",
            "a2 b2\n",
            "a3 b3\n",
            "(10, 1, 40) (20, 2, 50) (30, 3, 60)\n"
          ],
          "name": "stdout"
        },
        {
          "output_type": "execute_result",
          "data": {
            "text/plain": [
              "[111, 222, 333]"
            ]
          },
          "metadata": {
            "tags": []
          },
          "execution_count": 9
        }
      ]
    },
    {
      "cell_type": "markdown",
      "metadata": {
        "id": "iXrvcps3zIZ-"
      },
      "source": [
        "2)Lambda, Map, Reduce  \r\n",
        "Lambda->함수이름없이 함수처럼 쓸수있는것  \r\n",
        "Mapfunction->자료형에 동일한 function을 적용하고 싶을 때 사용함  \r\n",
        "reduce function->list에 똑같은 function을 적용해서 통합 ex.factorial()"
      ]
    },
    {
      "cell_type": "code",
      "metadata": {
        "colab": {
          "base_uri": "https://localhost:8080/"
        },
        "id": "I0ujeR15zRuT",
        "outputId": "d8691ace-c489-4c03-c356-2c52af856798"
      },
      "source": [
        "#lambda\r\n",
        "def f(x,y):\r\n",
        "  return x+y\r\n",
        "print(f(1,2))\r\n",
        "\r\n",
        "f=lambda x,y:x+y\r\n",
        "print(f(1,2))\r\n",
        "\r\n",
        "f=lambda x:x**2\r\n",
        "print(f(5))"
      ],
      "execution_count": 10,
      "outputs": [
        {
          "output_type": "stream",
          "text": [
            "3\n",
            "3\n",
            "25\n"
          ],
          "name": "stdout"
        }
      ]
    },
    {
      "cell_type": "code",
      "metadata": {
        "colab": {
          "base_uri": "https://localhost:8080/"
        },
        "id": "ZHb3_SThzpYy",
        "outputId": "fef81818-7238-453e-abb1-67dd26d5d352"
      },
      "source": [
        "#map function\r\n",
        "#python3부터는 list() 해야 값이 출력됨\r\n",
        "#map(적용할function,data)\r\n",
        "ex=[1,2,3,4,5]\r\n",
        "f=lambda x:x**2\r\n",
        "print(list(map(f,ex)))\r\n",
        "\r\n",
        "a=lambda x,y:x+y\r\n",
        "print(list(map(a,ex,ex)))"
      ],
      "execution_count": 14,
      "outputs": [
        {
          "output_type": "stream",
          "text": [
            "[1, 4, 9, 16, 25]\n",
            "[2, 4, 6, 8, 10]\n"
          ],
          "name": "stdout"
        }
      ]
    },
    {
      "cell_type": "code",
      "metadata": {
        "colab": {
          "base_uri": "https://localhost:8080/"
        },
        "id": "yJdzIwUw0zFY",
        "outputId": "69968f81-8658-4337-a8a4-53fc54500631"
      },
      "source": [
        "#reduce function\r\n",
        "from functools import reduce\r\n",
        "print(reduce(lambda x,y:x+y,[1,2,3,4,5]))"
      ],
      "execution_count": 15,
      "outputs": [
        {
          "output_type": "stream",
          "text": [
            "15\n"
          ],
          "name": "stdout"
        }
      ]
    },
    {
      "cell_type": "markdown",
      "metadata": {
        "id": "NPrp5edf1XyO"
      },
      "source": [
        "3)Asterisk"
      ]
    },
    {
      "cell_type": "code",
      "metadata": {
        "colab": {
          "base_uri": "https://localhost:8080/"
        },
        "id": "tNBwITbS1Zem",
        "outputId": "bf25587d-88e4-47bc-9dc7-ce482c4a1170"
      },
      "source": [
        "#*args->몇개의 자료를 입력받을지 모를 때 사용\r\n",
        "#**kargs->keyword parameter와 같이 입력받을 때 사용\r\n",
        "\r\n",
        "#a->1,*args->2,3,4,5\r\n",
        "def asterisk_test(a,*args):\r\n",
        "  print(a,args)\r\n",
        "  print(type(args))\r\n",
        "asterisk_test(1,2,3,4,5)\r\n",
        "\r\n",
        "def asterisk_test(a,**kargs):\r\n",
        "  print(a,kargs)\r\n",
        "  print(type(kargs))\r\n",
        "asterisk_test(1,b=2,c=3,d=4,e=5,f=6)\r\n",
        "\r\n",
        "#unpacking\r\n",
        "def asterisk_test(a,args):\r\n",
        "  print(a,*args)\r\n",
        "  print(type(args))\r\n",
        "asterisk_test(1,(2,3,4,5,6))"
      ],
      "execution_count": 23,
      "outputs": [
        {
          "output_type": "stream",
          "text": [
            "1 (2, 3, 4, 5)\n",
            "<class 'tuple'>\n",
            "1 {'b': 2, 'c': 3, 'd': 4, 'e': 5, 'f': 6}\n",
            "<class 'dict'>\n",
            "1 2 3 4 5 6\n",
            "<class 'tuple'>\n"
          ],
          "name": "stdout"
        }
      ]
    }
  ]
}