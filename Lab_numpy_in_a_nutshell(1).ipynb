{
  "nbformat": 4,
  "nbformat_minor": 0,
  "metadata": {
    "colab": {
      "name": "Lab - numpy in a nutshell(1).ipynb",
      "provenance": [],
      "authorship_tag": "ABX9TyOtfpommrQYQTZBwZ+XleiD",
      "include_colab_link": true
    },
    "kernelspec": {
      "name": "python3",
      "display_name": "Python 3"
    }
  },
  "cells": [
    {
      "cell_type": "markdown",
      "metadata": {
        "id": "view-in-github",
        "colab_type": "text"
      },
      "source": [
        "<a href=\"https://colab.research.google.com/github/fairyroad/Tensorflow/blob/main/Lab_numpy_in_a_nutshell(1).ipynb\" target=\"_parent\"><img src=\"https://colab.research.google.com/assets/colab-badge.svg\" alt=\"Open In Colab\"/></a>"
      ]
    },
    {
      "cell_type": "markdown",
      "metadata": {
        "id": "aLZIMBWgIHRK"
      },
      "source": [
        "1.n_size_ndarray_creation   \r\n",
        "->n의 제곱수로 2 dimentional array를 생성하는 ndarray"
      ]
    },
    {
      "cell_type": "code",
      "metadata": {
        "id": "u75dtKOwQNj-"
      },
      "source": [
        "import numpy as np"
      ],
      "execution_count": 3,
      "outputs": []
    },
    {
      "cell_type": "code",
      "metadata": {
        "id": "RfQyUUIqLh3J",
        "colab": {
          "base_uri": "https://localhost:8080/"
        },
        "outputId": "3e718460-a800-4d27-fbca-6e98fb40d138"
      },
      "source": [
        "def n_size_ndarray_creation(n, dtype=np.int):\r\n",
        "  X=np.array(range(n**2)).reshape(n,n)\r\n",
        "  return X\r\n",
        "#array값 출력  \r\n",
        "print(n_size_ndarray_creation(3))\r\n",
        "#array가 n*n인지 알아보는것\r\n",
        "print(n_size_ndarray_creation(3).shape)\r\n",
        "#array의 dimension 알아보는 것\r\n",
        "print(n_size_ndarray_creation(3).ndim)"
      ],
      "execution_count": 15,
      "outputs": [
        {
          "output_type": "stream",
          "text": [
            "[[0 1 2]\n",
            " [3 4 5]\n",
            " [6 7 8]]\n",
            "(3, 3)\n",
            "2\n"
          ],
          "name": "stdout"
        }
      ]
    },
    {
      "cell_type": "markdown",
      "metadata": {
        "id": "80ojhB6ZQQxp"
      },
      "source": [
        "    numpy는 np.array함수를 활용해서 배열을 생성함  \r\n",
        "    numpy는 하나의 data type만 배열의 넣을 수 있음\r\n",
        "    ->dynamic typing not supported \r\n",
        "    뒤에 나오는 dtype은 data type을 의미하고 numpy는 미리 memory의 크기가 결정되기 때문에 필요함"
      ]
    },
    {
      "cell_type": "code",
      "metadata": {
        "colab": {
          "base_uri": "https://localhost:8080/"
        },
        "id": "OOQDnI7NQ_ld",
        "outputId": "290fc323-81b3-4950-ac11-75a75c6e956f"
      },
      "source": [
        "test_array=np.array([1,4,5,8],float)\r\n",
        "print(test_array)\r\n",
        "print(test_array[3])\r\n",
        "print(test_array.dtype)\r\n",
        "print(type(test_array))\r\n",
        "print(test_array.shape)\r\n",
        "print(test_array.ndim)"
      ],
      "execution_count": 14,
      "outputs": [
        {
          "output_type": "stream",
          "text": [
            "[1. 4. 5. 8.]\n",
            "8.0\n",
            "float64\n",
            "<class 'numpy.ndarray'>\n",
            "(4,)\n",
            "1\n"
          ],
          "name": "stdout"
        }
      ]
    },
    {
      "cell_type": "markdown",
      "metadata": {
        "id": "CeWWhTb3TIuJ"
      },
      "source": [
        "2.zero_or_one_or_empty_ndarray\r\n",
        "->shape이 지정된 크기의 ndarray생성하고 행렬의 element는 type에 따라 0,1 또는 empty로 생성됨"
      ]
    },
    {
      "cell_type": "code",
      "metadata": {
        "colab": {
          "base_uri": "https://localhost:8080/"
        },
        "id": "82L4pPUVTb53",
        "outputId": "b9030f38-b3ce-471a-b7c0-5767b08b926b"
      },
      "source": [
        "def zero_or_one_or_empty_ndarray(shape,type=0,dtype=np.int):\r\n",
        "  if type==0:\r\n",
        "    return np.zeros(shape=shape,dtype=dtype)\r\n",
        "  if type==1:\r\n",
        "    return np.ones(shape=shape,dtype=dtype)\r\n",
        "  if type==99:\r\n",
        "    return np.empty(shape=shape,dtype=dtype)\r\n",
        "print(zero_or_one_or_empty_ndarray((2,2),type=0))\r\n",
        "print(zero_or_one_or_empty_ndarray((1,4),type=1))\r\n",
        "print(zero_or_one_or_empty_ndarray((3,5),type=99))"
      ],
      "execution_count": 27,
      "outputs": [
        {
          "output_type": "stream",
          "text": [
            "[[0 0]\n",
            " [0 0]]\n",
            "[[1 1 1 1]]\n",
            "[[           0 210453397554 206158430253 193273528369 236223201330]\n",
            " [210453397588 249108103216 223338299441 227633266746 197568495664]\n",
            " [227633266736 227633266745 240518168625 519691042906 433791696995]]\n"
          ],
          "name": "stdout"
        }
      ]
    },
    {
      "cell_type": "markdown",
      "metadata": {
        "id": "8ldGCHRGV8Hh"
      },
      "source": [
        "    zeros는 0로 다 채워주는 ndarray생성\r\n",
        "    ones는 1로 다 채워주는 ndarray생성\r\n",
        "    empty는 shape만 주어지고 비어있는 dnarray인데 memory initialization이 되지 않아서 쓰레기값이 들어갈 수 있음"
      ]
    },
    {
      "cell_type": "markdown",
      "metadata": {
        "id": "tSpV9ycBWVfT"
      },
      "source": [
        "3.change_shape_of_ndarray   \r\n",
        "->입력된 ndarray X를 row의 개수가 n_row인 matrix로 바꿈"
      ]
    },
    {
      "cell_type": "code",
      "metadata": {
        "colab": {
          "base_uri": "https://localhost:8080/"
        },
        "id": "W5aPrlx7W6Vc",
        "outputId": "082f1e42-45f1-48ea-ee95-cdce29a797ac"
      },
      "source": [
        "def change_shape_of_ndarray(X,n_row):\r\n",
        "  if n_row==1:\r\n",
        "    return X.flatten()\r\n",
        "  return X.reshape(n_row,-1)\r\n",
        "X=np.ones((32,32),dtype=np.int)\r\n",
        "print(change_shape_of_ndarray(X,1))\r\n",
        "print(change_shape_of_ndarray(X,2))"
      ],
      "execution_count": 33,
      "outputs": [
        {
          "output_type": "stream",
          "text": [
            "[1 1 1 ... 1 1 1]\n",
            "[[1 1 1 ... 1 1 1]\n",
            " [1 1 1 ... 1 1 1]]\n"
          ],
          "name": "stdout"
        }
      ]
    },
    {
      "cell_type": "markdown",
      "metadata": {
        "id": "7fUbzfmuYBw8"
      },
      "source": [
        "    flatten은 다차원 array를 1차원 array로 바꿔줌"
      ]
    },
    {
      "cell_type": "markdown",
      "metadata": {
        "id": "9sdbjMfhYVQG"
      },
      "source": [
        "4.concat_ndarray  \r\n",
        "->입력된 축을 기준으로 합쳐서 반환함  \r\n",
        "->vector인 경우도 처리가능하게!!"
      ]
    },
    {
      "cell_type": "code",
      "metadata": {
        "colab": {
          "base_uri": "https://localhost:8080/"
        },
        "id": "XQEBXZ35YvIm",
        "outputId": "5b8cfb2b-07d8-4e24-c64f-4c033b38e058"
      },
      "source": [
        "def concat_ndarray(X_1,X_2,axis):\r\n",
        "  try:\r\n",
        "    X=np.array(X_1)\r\n",
        "    Y=np.array(X_2)\r\n",
        "    return np.concatenate((X,Y),axis=axis)\r\n",
        "  except ValueError as e:\r\n",
        "    return False\r\n",
        "\r\n",
        "a=np.array([[1,2],[3,4]])\r\n",
        "b=np.array([[5,6]])\r\n",
        "print(concat_ndarray(a,b,0))\r\n",
        "\r\n",
        "a=np.array([1,2])\r\n",
        "b=np.array([5,6,7])\r\n",
        "print(concat_ndarray(a,b,1))"
      ],
      "execution_count": 38,
      "outputs": [
        {
          "output_type": "stream",
          "text": [
            "[[1 2]\n",
            " [3 4]\n",
            " [5 6]]\n",
            "False\n"
          ],
          "name": "stdout"
        }
      ]
    },
    {
      "cell_type": "markdown",
      "metadata": {
        "id": "wX1zI_GdaSDc"
      },
      "source": [
        "    예외가 발생하는 코드에서 예외처리를 해주고 싶으면 try: except ValueError as e:를 사용해보기!!\r\n",
        "    "
      ]
    },
    {
      "cell_type": "markdown",
      "metadata": {
        "id": "BEr_0gOCaYya"
      },
      "source": [
        "4.normalize_ndarray  \r\n",
        "->z=(x-x평균)/x의 표준편차로 normalize값으로 변환해서 반환함"
      ]
    },
    {
      "cell_type": "code",
      "metadata": {
        "colab": {
          "base_uri": "https://localhost:8080/"
        },
        "id": "VfqXTuRIaoLV",
        "outputId": "609897cc-8757-4bbf-a333-8da661d9f41c"
      },
      "source": [
        "def normalize_ndarray(X,axis=99,dtype=np.float32):\r\n",
        "  n_row,n_col=X.shape\r\n",
        "  if axis==99:\r\n",
        "    x_mean=np.mean(X)\r\n",
        "    x_std=np.std(X)\r\n",
        "    Z=(X-x_mean)/x_std\r\n",
        "  if axis==0:\r\n",
        "    x_mean=np.mean(X,0).reshape(1,-1)\r\n",
        "    x_std=np.std(X,0).reshape(1,-1)\r\n",
        "    Z=(X-x_mean)/x_std\r\n",
        "  if axis==1:\r\n",
        "    x_mean=np.mean(X,1).reshape(n_row,-1)\r\n",
        "    x_std=np.std(X,1).reshape(n_row,-1)\r\n",
        "    Z=(X-x_mean)/x_std\r\n",
        "  return Z\r\n",
        "X=np.arange(12,dtype=np.float32).reshape(4,3)\r\n",
        "print(normalize_ndarray(X,axis=1))\r\n",
        "  \r\n"
      ],
      "execution_count": 51,
      "outputs": [
        {
          "output_type": "stream",
          "text": [
            "[[-1.2247448  0.         1.2247448]\n",
            " [-1.2247448  0.         1.2247448]\n",
            " [-1.2247448  0.         1.2247448]\n",
            " [-1.2247448  0.         1.2247448]]\n"
          ],
          "name": "stdout"
        }
      ]
    }
  ]
}