{
  "nbformat": 4,
  "nbformat_minor": 0,
  "metadata": {
    "colab": {
      "name": "Lab - Basic Linear Algebra with Pythonic Code.ipynb",
      "provenance": [],
      "mount_file_id": "1B2BR9lzM5Nh1sa5JIgf9obBy6DO39Nc1",
      "authorship_tag": "ABX9TyNiENIKUPCpzZ1A6a+00Jo1",
      "include_colab_link": true
    },
    "kernelspec": {
      "name": "python3",
      "display_name": "Python 3"
    }
  },
  "cells": [
    {
      "cell_type": "markdown",
      "metadata": {
        "id": "view-in-github",
        "colab_type": "text"
      },
      "source": [
        "<a href=\"https://colab.research.google.com/github/fairyroad/Tensorflow/blob/main/Lab_Basic_Linear_Algebra_with_Pythonic_Code.ipynb\" target=\"_parent\"><img src=\"https://colab.research.google.com/assets/colab-badge.svg\" alt=\"Open In Colab\"/></a>"
      ]
    },
    {
      "cell_type": "markdown",
      "metadata": {
        "id": "gvwhfAM3thiW"
      },
      "source": [
        "#Problem #1 -vector_size_check(one line code available)  \r\n",
        "    vector 간 덧셈 또는 뺄셈 연산을 할 때, 연산이 가능한 사이즈인지를 확인하여 가능 여부를 True 또는 False로 반환함"
      ]
    },
    {
      "cell_type": "code",
      "metadata": {
        "id": "kavk9PmbtNiz"
      },
      "source": [
        "#set은 중복이 허용되지 않음!!\r\n",
        "def vector_size_check(*vector_variables):\r\n",
        "    return len(set([len(vector) for vector in vector_variables]))==1"
      ],
      "execution_count": 4,
      "outputs": []
    },
    {
      "cell_type": "code",
      "metadata": {
        "colab": {
          "base_uri": "https://localhost:8080/"
        },
        "id": "jtK-zJ5Xtz8l",
        "outputId": "d8c8f51c-ff21-4c57-b3f6-08b493ff1d8d"
      },
      "source": [
        "# 실행결과\r\n",
        "print(vector_size_check([1,2,3], [2,3,4], [5,6,7])) # Expected value: True\r\n",
        "print(vector_size_check([1, 3], [2,4], [6,7])) # Expected value: True\r\n",
        "print(vector_size_check([1, 3, 4], [4], [6,7])) # Expected value: False"
      ],
      "execution_count": 5,
      "outputs": [
        {
          "output_type": "stream",
          "text": [
            "True\n",
            "True\n",
            "False\n"
          ],
          "name": "stdout"
        }
      ]
    },
    {
      "cell_type": "markdown",
      "metadata": {
        "id": "izFhwJUgvmO4"
      },
      "source": [
        "#Problem #2 -vector_addition(one line code available)  \r\n",
        "    vector간 덧셈을 실행하여 결과를 반환함, 단 입력되는 vector의 갯수와 크기는 일정하지 않음"
      ]
    },
    {
      "cell_type": "code",
      "metadata": {
        "id": "lcX9NwQgvyEa"
      },
      "source": [
        "def vector_addition(*vector_variables):\r\n",
        "    if vector_size_check(*vector_variables) == False:\r\n",
        "      raise ArithmeticError\r\n",
        "    return [sum(x) for x in zip(*vector_variables)]"
      ],
      "execution_count": 13,
      "outputs": []
    },
    {
      "cell_type": "code",
      "metadata": {
        "colab": {
          "base_uri": "https://localhost:8080/"
        },
        "id": "7NvCnNjPv546",
        "outputId": "06566017-231d-4567-8a1d-59cbc7551daa"
      },
      "source": [
        "# 실행결과\r\n",
        "print(vector_addition([1, 3], [2, 4], [6, 7])) # Expected value: [9, 14]\r\n",
        "print(vector_addition([1, 5], [10, 4], [4, 7])) # Expected value: [15, 16]\r\n",
        "print(vector_addition([1, 3, 4], [4], [6,7])) # Expected value: ArithmeticError"
      ],
      "execution_count": 14,
      "outputs": [
        {
          "output_type": "stream",
          "text": [
            "[9, 14]\n",
            "[15, 16]\n",
            "ArithmeticError\n"
          ],
          "name": "stdout"
        }
      ]
    },
    {
      "cell_type": "markdown",
      "metadata": {
        "id": "6R3vEB2nx2Xl"
      },
      "source": [
        "#Problem #3 -vector_subtraction(one line code available)  \r\n",
        "    vector간 뺄셈을 실행하여 결과를 반환함, 단 입력되는 vector의 갯수와 크기는 일정하지 않음"
      ]
    },
    {
      "cell_type": "code",
      "metadata": {
        "id": "hC725w6f1JU2"
      },
      "source": [
        "def vector_subtraction(*vector_variables):\r\n",
        "    if vector_size_check(*vector_variables) == False:\r\n",
        "        raise ArithmeticError\r\n",
        "    return [2*x[0]-sum(x) for x in zip(*vector_variables)]"
      ],
      "execution_count": 17,
      "outputs": []
    },
    {
      "cell_type": "code",
      "metadata": {
        "colab": {
          "base_uri": "https://localhost:8080/"
        },
        "id": "ONwDyc_g1tnH",
        "outputId": "c215e650-9cdd-4a20-bbe3-1a20abfd27fd"
      },
      "source": [
        "# 실행결과\r\n",
        "print(vector_subtraction([1, 3], [2, 4])) # Expected value: [-1, -1]\r\n",
        "print(vector_subtraction([1, 5], [10, 4], [4, 7])) # Expected value: [-13, -6]"
      ],
      "execution_count": 18,
      "outputs": [
        {
          "output_type": "stream",
          "text": [
            "[-1, -1]\n",
            "[-13, -6]\n"
          ],
          "name": "stdout"
        }
      ]
    },
    {
      "cell_type": "markdown",
      "metadata": {
        "id": "ZEwUZg--2zc3"
      },
      "source": [
        "#Problem #4 -scalar_vector_product(one line code available)  \r\n",
        "    하나의 scalar 값을 vector에 곱함, 단 입력되는 vector의 크기는 일정하지 않음"
      ]
    },
    {
      "cell_type": "code",
      "metadata": {
        "id": "Asf5ZKiO26ST"
      },
      "source": [
        "def scalar_vector_product(alpha, vector_variable):\r\n",
        "    return [alpha*x for x in vector_variable]"
      ],
      "execution_count": 21,
      "outputs": []
    },
    {
      "cell_type": "code",
      "metadata": {
        "colab": {
          "base_uri": "https://localhost:8080/"
        },
        "id": "p3ZQoVOs289O",
        "outputId": "10ba8f98-8960-40f7-a769-482e65236c0f"
      },
      "source": [
        "# 실행결과\r\n",
        "print (scalar_vector_product(5,[1,2,3])) # Expected value: [5, 10, 15]\r\n",
        "print (scalar_vector_product(3,[2,2])) # Expected value: [6, 6]\r\n",
        "print (scalar_vector_product(4,[1])) # Expected value: [4]"
      ],
      "execution_count": 22,
      "outputs": [
        {
          "output_type": "stream",
          "text": [
            "[5, 10, 15]\n",
            "[6, 6]\n",
            "[4]\n"
          ],
          "name": "stdout"
        }
      ]
    },
    {
      "cell_type": "markdown",
      "metadata": {
        "id": "ledbKFr44EJa"
      },
      "source": [
        "#Problem #5 -matrix_size_check(one line code available)\r\n",
        "    matrix 간 덧셈 또는 뺄셈 연산을 할 때, 연산이 가능한 사이즈인지를 확인하여 가능 여부를 True 또는 False로 반환함"
      ]
    },
    {
      "cell_type": "code",
      "metadata": {
        "id": "JIlu3GbL4Izq"
      },
      "source": [
        "def matrix_size_check(*matrix_variables):\r\n",
        "    return len(set([len(x) for x in matrix_variables]))==1"
      ],
      "execution_count": 23,
      "outputs": []
    },
    {
      "cell_type": "code",
      "metadata": {
        "colab": {
          "base_uri": "https://localhost:8080/"
        },
        "id": "EYV9EqcV4KYS",
        "outputId": "0132aa83-c750-464b-cad7-d37cb2129b73"
      },
      "source": [
        "# 실행결과\r\n",
        "matrix_x = [[2, 2], [2, 2], [2, 2]]\r\n",
        "matrix_y = [[2, 5], [2, 1]]\r\n",
        "matrix_z = [[2, 4], [5, 3]]\r\n",
        "matrix_w = [[2, 5], [1, 1], [2, 2]]\r\n",
        "\r\n",
        "print (matrix_size_check(matrix_x, matrix_y, matrix_z)) # Expected value: False\r\n",
        "print (matrix_size_check(matrix_y, matrix_z)) # Expected value: True\r\n",
        "print (matrix_size_check(matrix_x, matrix_w)) # Expected value: True"
      ],
      "execution_count": 24,
      "outputs": [
        {
          "output_type": "stream",
          "text": [
            "False\n",
            "True\n",
            "True\n"
          ],
          "name": "stdout"
        }
      ]
    },
    {
      "cell_type": "markdown",
      "metadata": {
        "id": "bXVkdGa56Agb"
      },
      "source": [
        "#Problem #6 - is_matrix_equal(one line code available)  \r\n",
        "\t비교가 되는 n개의 matrix가 서로 동치인지 확인하여 True 또는 False를 반환함"
      ]
    },
    {
      "cell_type": "code",
      "metadata": {
        "id": "pLtLcagI6R5v"
      },
      "source": [
        "#all은 0 or 1로 적힌 list가 모두 1일때만 1을 return하는 함수\r\n",
        "def is_matrix_equal(*matrix_variables):\r\n",
        "    \r\n",
        "    return all([all([len(set(row))==1 for row in zip(*matrix)]) for matrix in zip(*matrix_variables)])"
      ],
      "execution_count": 67,
      "outputs": []
    },
    {
      "cell_type": "code",
      "metadata": {
        "colab": {
          "base_uri": "https://localhost:8080/"
        },
        "id": "GuUsMT5D6r_e",
        "outputId": "d0457062-054b-419a-a5b2-4b0f543c3d78"
      },
      "source": [
        "# 실행결과\r\n",
        "matrix_x = [[2, 2], [2, 2]]\r\n",
        "matrix_y = [[2, 5], [2, 1]]\r\n",
        "\r\n",
        "print (is_matrix_equal(matrix_x, matrix_y, matrix_y, matrix_y)) # Expected value: False\r\n",
        "print (is_matrix_equal(matrix_x, matrix_x)) # Expected value: True"
      ],
      "execution_count": 68,
      "outputs": [
        {
          "output_type": "stream",
          "text": [
            "False\n",
            "True\n"
          ],
          "name": "stdout"
        }
      ]
    },
    {
      "cell_type": "markdown",
      "metadata": {
        "id": "Na6J0eBFN7I6"
      },
      "source": [
        "#Problem #7 -matrix_addition(one line code available)\r\n",
        "    \tmatrix간 덧셈을 실행하여 결과를 반환함, 단 입력되는 matrix의 갯수와 크기는 일정하지 않음"
      ]
    },
    {
      "cell_type": "code",
      "metadata": {
        "id": "vn_5NPnFOLu-"
      },
      "source": [
        "def matrix_addition(*matrix_variables):\r\n",
        "    if matrix_size_check(*matrix_variables) == False:\r\n",
        "        raise ArithmeticError\r\n",
        "    return [[sum(row) for row in zip(*matrix)] for matrix in zip(*matrix_variables)]"
      ],
      "execution_count": 111,
      "outputs": []
    },
    {
      "cell_type": "code",
      "metadata": {
        "colab": {
          "base_uri": "https://localhost:8080/"
        },
        "id": "XkLSz8BUOQUH",
        "outputId": "56b9e36c-4554-487e-f054-4ded6c1f3a00"
      },
      "source": [
        "# 실행결과->hard,,,,\r\n",
        "matrix_x = [[2, 2], [2, 2]]\r\n",
        "matrix_y = [[2, 5], [2, 1]]\r\n",
        "matrix_z = [[2, 4], [5, 3]]\r\n",
        "#print(list(zip(*(matrix_x, matrix_y))))\r\n",
        "print(matrix_addition(matrix_x, matrix_y)) # Expected value: [[4, 7], [4, 3]]\r\n",
        "print(matrix_addition(matrix_x, matrix_y, matrix_z)) # Expected value: [[6, 11], [9, 6]]"
      ],
      "execution_count": 116,
      "outputs": [
        {
          "output_type": "stream",
          "text": [
            "[([2, 2], [2, 5]), ([2, 2], [2, 1])]\n",
            "[[4, 7], [4, 3]]\n",
            "[[6, 11], [9, 6]]\n"
          ],
          "name": "stdout"
        }
      ]
    },
    {
      "cell_type": "markdown",
      "metadata": {
        "id": "7-Bh3hF0brdQ"
      },
      "source": [
        "#Problem #8 -matrix_subtraction(one line code available)\r\n",
        "    \tmatrix간 뺄셈을 실행하여 결과를 반환함, 단 입력되는 matrix의 갯수와 크기는 일정하지 않음"
      ]
    },
    {
      "cell_type": "code",
      "metadata": {
        "id": "lCXB33x-b9Gw"
      },
      "source": [
        "def matrix_subtraction(*matrix_variables):\r\n",
        "    if matrix_size_check(*matrix_variables) == False:\r\n",
        "        raise ArithmeticError\r\n",
        "    return [[row[0]*2-sum(row) for row in zip(*matrix)] for matrix in zip(*matrix_variables)]"
      ],
      "execution_count": 117,
      "outputs": []
    },
    {
      "cell_type": "code",
      "metadata": {
        "colab": {
          "base_uri": "https://localhost:8080/"
        },
        "id": "6vOGn0aFcC2p",
        "outputId": "2792848c-75e4-46a7-f481-2b083fa2ed9c"
      },
      "source": [
        "# 실행결과\r\n",
        "matrix_x = [[2, 2], [2, 2]]\r\n",
        "matrix_y = [[2, 5], [2, 1]]\r\n",
        "matrix_z = [[2, 4], [5, 3]]\r\n",
        "\r\n",
        "print (matrix_subtraction(matrix_x, matrix_y)) # Expected value: [[0, -3], [0, 1]]\r\n",
        "print (matrix_subtraction(matrix_x, matrix_y, matrix_z)) # Expected value: [[-2, -7], [-5, -2]]"
      ],
      "execution_count": 118,
      "outputs": [
        {
          "output_type": "stream",
          "text": [
            "[[0, -3], [0, 1]]\n",
            "[[-2, -7], [-5, -2]]\n"
          ],
          "name": "stdout"
        }
      ]
    },
    {
      "cell_type": "markdown",
      "metadata": {
        "id": "1s41e-wrluED"
      },
      "source": [
        "#Problem #9 -matrix_transpose(one line code available)  \r\n",
        "    matrix의 역행렬을 구하여 결과를 반환함, 단 입력되는 matrix의 크기는 일정하지 않음"
      ]
    },
    {
      "cell_type": "code",
      "metadata": {
        "id": "Rj0Ivfoul3hl"
      },
      "source": [
        "#return [list(matrix) for matrix in zip(*matrix_variable)]도 가능함\r\n",
        "def matrix_transpose(matrix_variable):\r\n",
        "    return [[row for row in matrix] for matrix in zip(*matrix_variable)]"
      ],
      "execution_count": 136,
      "outputs": []
    },
    {
      "cell_type": "code",
      "metadata": {
        "colab": {
          "base_uri": "https://localhost:8080/"
        },
        "id": "blT_w_mumV40",
        "outputId": "719af49f-588a-4056-9b40-afc936fff83b"
      },
      "source": [
        "# 실행결과\r\n",
        "matrix_w = [[2, 5], [1, 1], [2, 2]]\r\n",
        "matrix_transpose(matrix_w)"
      ],
      "execution_count": 138,
      "outputs": [
        {
          "output_type": "execute_result",
          "data": {
            "text/plain": [
              "[[2, 1, 2], [5, 1, 2]]"
            ]
          },
          "metadata": {
            "tags": []
          },
          "execution_count": 138
        }
      ]
    },
    {
      "cell_type": "markdown",
      "metadata": {
        "id": "gI0sFihsn8Yv"
      },
      "source": [
        "#Problem #10 -scalar_matrix_product(one line code available)\r\n",
        "    하나의 scalar 값을 matrix에 곱함, 단 입력되는 matrix의 크기는 일정하지 않음"
      ]
    },
    {
      "cell_type": "code",
      "metadata": {
        "id": "TyK4JYdLpB_n"
      },
      "source": [
        "def scalar_matrix_product(alpha, matrix_variable):\r\n",
        "    return [[alpha*row for row in matrix] for matrix in matrix_variable]"
      ],
      "execution_count": 144,
      "outputs": []
    },
    {
      "cell_type": "code",
      "metadata": {
        "colab": {
          "base_uri": "https://localhost:8080/"
        },
        "id": "Q8lx2plNpHWR",
        "outputId": "668b1727-d28b-468a-dd44-bf43d4757a23"
      },
      "source": [
        "# 실행결과\r\n",
        "matrix_x = [[2, 2], [2, 2], [2, 2]]\r\n",
        "matrix_y = [[2, 5], [2, 1]]\r\n",
        "matrix_z = [[2, 4], [5, 3]]\r\n",
        "matrix_w = [[2, 5], [1, 1], [2, 2]]\r\n",
        "\r\n",
        "print(scalar_matrix_product(3, matrix_x)) #Expected value: [[6, 6], [6, 6], [6, 6]]\r\n",
        "print(scalar_matrix_product(2, matrix_y)) #Expected value: [[4, 10], [4, 2]]\r\n",
        "print(scalar_matrix_product(4, matrix_z)) #Expected value: [[8, 16], [20, 12]]\r\n",
        "print(scalar_matrix_product(3, matrix_w)) #Expected value: [[6, 15], [3, 3], [6, 6]]"
      ],
      "execution_count": 147,
      "outputs": [
        {
          "output_type": "stream",
          "text": [
            "[[6, 6], [6, 6], [6, 6]]\n",
            "[[4, 10], [4, 2]]\n",
            "[[8, 16], [20, 12]]\n",
            "[[6, 15], [3, 3], [6, 6]]\n"
          ],
          "name": "stdout"
        }
      ]
    },
    {
      "cell_type": "markdown",
      "metadata": {
        "id": "sruo0VLWrIg2"
      },
      "source": [
        "#Problem #11 -is_product_availability_matrix(one line code available)\r\n",
        "    두 개의 matrix가 입력 되었을 경우, 두 matrix의 곱셈 연산의 가능 여부를 True 또는 False로 반환함"
      ]
    },
    {
      "cell_type": "code",
      "metadata": {
        "id": "2gfVNb-grQve"
      },
      "source": [
        "#return True and len(matrix_a[0])==len(matrix_b)도 가능함!!\r\n",
        "def is_product_availability_matrix(matrix_a, matrix_b):\r\n",
        "    return len([a for a in zip(*matrix_a)]) == len(matrix_b)"
      ],
      "execution_count": 154,
      "outputs": []
    },
    {
      "cell_type": "code",
      "metadata": {
        "colab": {
          "base_uri": "https://localhost:8080/"
        },
        "id": "-HkgQcHcrSzz",
        "outputId": "2883b2a2-458b-4c34-d58b-b041ae7bb7ce"
      },
      "source": [
        "# 실행결과\r\n",
        "matrix_x= [[2, 5], [1, 1]]\r\n",
        "matrix_y = [[1, 1, 2], [2, 1, 1]]\r\n",
        "matrix_z = [[2, 4], [5, 3], [1, 3]]\r\n",
        "print(is_product_availability_matrix(matrix_y, matrix_z)) # Expected value: True\r\n",
        "print(is_product_availability_matrix(matrix_z, matrix_x)) # Expected value: True\r\n",
        "print(is_product_availability_matrix(matrix_z, matrix_w)) # Expected value: False //matrix_w가없습니다\r\n",
        "print(is_product_availability_matrix(matrix_x, matrix_x)) # Expected value: True"
      ],
      "execution_count": 156,
      "outputs": [
        {
          "output_type": "stream",
          "text": [
            "True\n",
            "True\n",
            "False\n",
            "True\n"
          ],
          "name": "stdout"
        }
      ]
    },
    {
      "cell_type": "markdown",
      "metadata": {
        "id": "0JvjXhw2vt_z"
      },
      "source": [
        "#Problem #12 -matrix_product(one line code available)\r\n",
        "    곱셈 연산이 가능한 두 개의 matrix의 곱셈을 실행하여 반환함"
      ]
    },
    {
      "cell_type": "code",
      "metadata": {
        "id": "SQdZMqSBv-0Y"
      },
      "source": [
        "def matrix_product(matrix_a, matrix_b):\r\n",
        "    if is_product_availability_matrix(matrix_a, matrix_b) == False:\r\n",
        "        raise ArithmeticError\r\n",
        "    return [[sum(col*row for col,row in zip(col, row)) for col in zip(*matrix_b)] for row in matrix_a]"
      ],
      "execution_count": 169,
      "outputs": []
    },
    {
      "cell_type": "code",
      "metadata": {
        "colab": {
          "base_uri": "https://localhost:8080/",
          "height": 431
        },
        "id": "OephL46EwUuU",
        "outputId": "fa187729-3e09-42eb-fb4a-57702694621c"
      },
      "source": [
        "# 실행결과\r\n",
        "matrix_x= [[2, 5], [1, 1]]\r\n",
        "matrix_y = [[1, 1, 2], [2, 1, 1]]\r\n",
        "matrix_z = [[2, 4], [5, 3], [1, 3]]\r\n",
        "\r\n",
        "print(matrix_product(matrix_y, matrix_z)) # Expected value: [[9, 13], [10, 14]]\r\n",
        "print(matrix_product(matrix_z, matrix_x)) # Expected value: [[8, 14], [13, 28], [5, 8]]\r\n",
        "print(matrix_product(matrix_x, matrix_x)) # Expected value: [[9, 15], [3, 6]]\r\n",
        "print(matrix_product(matrix_z, matrix_w)) # Expected value: False"
      ],
      "execution_count": 170,
      "outputs": [
        {
          "output_type": "stream",
          "text": [
            "[[9, 13], [10, 14]]\n",
            "[[8, 14], [13, 28], [5, 8]]\n",
            "[[9, 15], [3, 6]]\n"
          ],
          "name": "stdout"
        },
        {
          "output_type": "error",
          "ename": "ArithmeticError",
          "evalue": "ignored",
          "traceback": [
            "\u001b[0;31m---------------------------------------------------------------------------\u001b[0m",
            "\u001b[0;31mArithmeticError\u001b[0m                           Traceback (most recent call last)",
            "\u001b[0;32m<ipython-input-170-029c2aa6807e>\u001b[0m in \u001b[0;36m<module>\u001b[0;34m()\u001b[0m\n\u001b[1;32m      7\u001b[0m \u001b[0mprint\u001b[0m\u001b[0;34m(\u001b[0m\u001b[0mmatrix_product\u001b[0m\u001b[0;34m(\u001b[0m\u001b[0mmatrix_z\u001b[0m\u001b[0;34m,\u001b[0m \u001b[0mmatrix_x\u001b[0m\u001b[0;34m)\u001b[0m\u001b[0;34m)\u001b[0m \u001b[0;31m# Expected value: [[8, 14], [13, 28], [5, 8]]\u001b[0m\u001b[0;34m\u001b[0m\u001b[0;34m\u001b[0m\u001b[0m\n\u001b[1;32m      8\u001b[0m \u001b[0mprint\u001b[0m\u001b[0;34m(\u001b[0m\u001b[0mmatrix_product\u001b[0m\u001b[0;34m(\u001b[0m\u001b[0mmatrix_x\u001b[0m\u001b[0;34m,\u001b[0m \u001b[0mmatrix_x\u001b[0m\u001b[0;34m)\u001b[0m\u001b[0;34m)\u001b[0m \u001b[0;31m# Expected value: [[9, 15], [3, 6]]\u001b[0m\u001b[0;34m\u001b[0m\u001b[0;34m\u001b[0m\u001b[0m\n\u001b[0;32m----> 9\u001b[0;31m \u001b[0mprint\u001b[0m\u001b[0;34m(\u001b[0m\u001b[0mmatrix_product\u001b[0m\u001b[0;34m(\u001b[0m\u001b[0mmatrix_z\u001b[0m\u001b[0;34m,\u001b[0m \u001b[0mmatrix_w\u001b[0m\u001b[0;34m)\u001b[0m\u001b[0;34m)\u001b[0m \u001b[0;31m# Expected value: False\u001b[0m\u001b[0;34m\u001b[0m\u001b[0;34m\u001b[0m\u001b[0m\n\u001b[0m",
            "\u001b[0;32m<ipython-input-169-5387d2946abe>\u001b[0m in \u001b[0;36mmatrix_product\u001b[0;34m(matrix_a, matrix_b)\u001b[0m\n\u001b[1;32m      1\u001b[0m \u001b[0;32mdef\u001b[0m \u001b[0mmatrix_product\u001b[0m\u001b[0;34m(\u001b[0m\u001b[0mmatrix_a\u001b[0m\u001b[0;34m,\u001b[0m \u001b[0mmatrix_b\u001b[0m\u001b[0;34m)\u001b[0m\u001b[0;34m:\u001b[0m\u001b[0;34m\u001b[0m\u001b[0;34m\u001b[0m\u001b[0m\n\u001b[1;32m      2\u001b[0m     \u001b[0;32mif\u001b[0m \u001b[0mis_product_availability_matrix\u001b[0m\u001b[0;34m(\u001b[0m\u001b[0mmatrix_a\u001b[0m\u001b[0;34m,\u001b[0m \u001b[0mmatrix_b\u001b[0m\u001b[0;34m)\u001b[0m \u001b[0;34m==\u001b[0m \u001b[0;32mFalse\u001b[0m\u001b[0;34m:\u001b[0m\u001b[0;34m\u001b[0m\u001b[0;34m\u001b[0m\u001b[0m\n\u001b[0;32m----> 3\u001b[0;31m         \u001b[0;32mraise\u001b[0m \u001b[0mArithmeticError\u001b[0m\u001b[0;34m\u001b[0m\u001b[0;34m\u001b[0m\u001b[0m\n\u001b[0m\u001b[1;32m      4\u001b[0m     \u001b[0;32mreturn\u001b[0m \u001b[0;34m[\u001b[0m\u001b[0;34m[\u001b[0m\u001b[0msum\u001b[0m\u001b[0;34m(\u001b[0m\u001b[0mcol\u001b[0m\u001b[0;34m*\u001b[0m\u001b[0mrow\u001b[0m \u001b[0;32mfor\u001b[0m \u001b[0mcol\u001b[0m\u001b[0;34m,\u001b[0m\u001b[0mrow\u001b[0m \u001b[0;32min\u001b[0m \u001b[0mzip\u001b[0m\u001b[0;34m(\u001b[0m\u001b[0mcol\u001b[0m\u001b[0;34m,\u001b[0m \u001b[0mrow\u001b[0m\u001b[0;34m)\u001b[0m\u001b[0;34m)\u001b[0m \u001b[0;32mfor\u001b[0m \u001b[0mcol\u001b[0m \u001b[0;32min\u001b[0m \u001b[0mzip\u001b[0m\u001b[0;34m(\u001b[0m\u001b[0;34m*\u001b[0m\u001b[0mmatrix_b\u001b[0m\u001b[0;34m)\u001b[0m\u001b[0;34m]\u001b[0m \u001b[0;32mfor\u001b[0m \u001b[0mrow\u001b[0m \u001b[0;32min\u001b[0m \u001b[0mmatrix_a\u001b[0m\u001b[0;34m]\u001b[0m\u001b[0;34m\u001b[0m\u001b[0;34m\u001b[0m\u001b[0m\n",
            "\u001b[0;31mArithmeticError\u001b[0m: "
          ]
        }
      ]
    }
  ]
}