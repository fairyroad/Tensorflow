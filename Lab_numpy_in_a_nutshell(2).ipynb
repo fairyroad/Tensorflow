{
  "nbformat": 4,
  "nbformat_minor": 0,
  "metadata": {
    "colab": {
      "name": "Lab - numpy in a nutshell(2).ipynb",
      "provenance": [],
      "authorship_tag": "ABX9TyMLxZC7Qsgn90FlgZtcJSOO",
      "include_colab_link": true
    },
    "kernelspec": {
      "name": "python3",
      "display_name": "Python 3"
    }
  },
  "cells": [
    {
      "cell_type": "markdown",
      "metadata": {
        "id": "view-in-github",
        "colab_type": "text"
      },
      "source": [
        "<a href=\"https://colab.research.google.com/github/fairyroad/Tensorflow/blob/main/Lab_numpy_in_a_nutshell(2).ipynb\" target=\"_parent\"><img src=\"https://colab.research.google.com/assets/colab-badge.svg\" alt=\"Open In Colab\"/></a>"
      ]
    },
    {
      "cell_type": "markdown",
      "metadata": {
        "id": "-ayPH_e37Mzx"
      },
      "source": [
        "5.save_ndarray  \r\n",
        "->입력된 ndarray X를 argument file name으로 저장함"
      ]
    },
    {
      "cell_type": "code",
      "metadata": {
        "id": "mlSiCbp46pIe"
      },
      "source": [
        "import numpy as np"
      ],
      "execution_count": 1,
      "outputs": []
    },
    {
      "cell_type": "code",
      "metadata": {
        "id": "XJv4ZkMq7hl4"
      },
      "source": [
        "def save_ndarray(X,filename=\"test.npy\"):\r\n",
        "  file_test=open(filename,\"wb\")\r\n",
        "  np.save(X,file_test)"
      ],
      "execution_count": null,
      "outputs": []
    },
    {
      "cell_type": "markdown",
      "metadata": {
        "id": "KSGapXip9J6Z"
      },
      "source": [
        "6.boolean_index  \r\n",
        "->입력된 ndarray x를 string type의 condition정보를 바탕으로 해당 컨디션에 해당하는 ndarray x의 index 번호를 반환함  \r\n",
        "->이때, str type의 조건인 condtion을 코드로 변환하기 위해서 eval(str(\"X\")+condition)을 사용할 수 있음"
      ]
    },
    {
      "cell_type": "code",
      "metadata": {
        "id": "LELbs2eV-H5k"
      },
      "source": [
        "def boolean_index(X,condition):\r\n",
        "  return np.where(eval(str(\"X\")+condition))"
      ],
      "execution_count": 2,
      "outputs": []
    },
    {
      "cell_type": "markdown",
      "metadata": {
        "id": "TCQ9lkBM-Lg4"
      },
      "source": [
        "    index값을 반환하는 함수중에 np.where이 있음\r\n",
        "    eval은 보안에 매우 취약한 함수이지만, 문자로 표현된 것을 실행하게 만들어주는 역할을 함"
      ]
    },
    {
      "cell_type": "code",
      "metadata": {
        "colab": {
          "base_uri": "https://localhost:8080/"
        },
        "id": "WXANM_iY-j9J",
        "outputId": "d6a19474-4fac-4478-fcea-093176ecb9e3"
      },
      "source": [
        "X=np.arange(32,dtype=np.float32).reshape(4,-1)\r\n",
        "print(boolean_index(X,\"==3\"))\r\n",
        "Y=np.arange(32,dtype=np.float32)\r\n",
        "print(boolean_index(Y,\">6\"))"
      ],
      "execution_count": 5,
      "outputs": [
        {
          "output_type": "stream",
          "text": [
            "(array([0]), array([3]))\n",
            "(array([ 7,  8,  9, 10, 11, 12, 13, 14, 15, 16, 17, 18, 19, 20, 21, 22, 23,\n",
            "       24, 25, 26, 27, 28, 29, 30, 31]),)\n"
          ],
          "name": "stdout"
        }
      ]
    },
    {
      "cell_type": "markdown",
      "metadata": {
        "id": "iPeHdJJk_hIi"
      },
      "source": [
        "7.find_nearest_value  \r\n",
        "->입력된 vector type의 ndarray X에서 target_value와 가장 차이가 작게 나는 element를 찾아서 return함  \r\n",
        "->X를 list로 변경하여 처리하면 안됨!!"
      ]
    },
    {
      "cell_type": "code",
      "metadata": {
        "id": "tEDThSgK_v3P"
      },
      "source": [
        "def find_nearest_value(X,target_value):\r\n",
        "  X=np.abs(X-target_value)\r\n",
        "  return X[np.argmin(X)]"
      ],
      "execution_count": 13,
      "outputs": []
    },
    {
      "cell_type": "markdown",
      "metadata": {
        "id": "YUkHuU0ABOke"
      },
      "source": [
        "    그냥 abs말고 np.abs도 존재함\r\n",
        "    np.argmin은 가장 작은 것의 index값을 찾아주는 거여서 그냥 np.argmin(X)를 하면 안되고 x[np.argmin(x)]로 값을 return하게 해야 함"
      ]
    },
    {
      "cell_type": "code",
      "metadata": {
        "colab": {
          "base_uri": "https://localhost:8080/"
        },
        "id": "AYFMx1M6_1B3",
        "outputId": "4beb7aa4-1b3b-424e-cf3b-2653cb2a64d8"
      },
      "source": [
        "#uniform distribution으로 난수 만들기\r\n",
        "#0이 min값, 1이 max값을 나타냄, 100은 size!!\r\n",
        "X=np.random.uniform(0,1,100)\r\n",
        "target_value=0.3\r\n",
        "print(find_nearest_value(X,target_value))"
      ],
      "execution_count": 14,
      "outputs": [
        {
          "output_type": "stream",
          "text": [
            "0.0032990274114424456\n"
          ],
          "name": "stdout"
        }
      ]
    },
    {
      "cell_type": "markdown",
      "metadata": {
        "id": "S8Its4cGBcXT"
      },
      "source": [
        "8.get_n_larget_values  \r\n",
        "->입력된 vector type의 ndarray X에서 큰 숫자 순서대로 n개의 값을 return함"
      ]
    },
    {
      "cell_type": "code",
      "metadata": {
        "id": "wA78rEQIB6H2"
      },
      "source": [
        "def get_n_largest_values(X,n):\r\n",
        "  s=np.argsort(X)[::-1]\r\n",
        "  return X[s[:n]]"
      ],
      "execution_count": 34,
      "outputs": []
    },
    {
      "cell_type": "markdown",
      "metadata": {
        "id": "t6sIaPCPDl6C"
      },
      "source": [
        "    argsort()는 제일 작은 것 부터 index값을 적어주게 되는 함수\r\n",
        "    역순으로 data를 뽑아주는 방법이 X[::-1]임!!"
      ]
    },
    {
      "cell_type": "code",
      "metadata": {
        "colab": {
          "base_uri": "https://localhost:8080/"
        },
        "id": "BMtwZFqVB9Q_",
        "outputId": "e5c5e8ed-a539-46cf-c466-9da2db53cb99"
      },
      "source": [
        "X=np.random.uniform(0,1,5)\r\n",
        "print(get_n_largest_values(X,5))"
      ],
      "execution_count": 35,
      "outputs": [
        {
          "output_type": "stream",
          "text": [
            "[0.78583564 0.28591208 0.2439891  0.18955959 0.0523488 ]\n"
          ],
          "name": "stdout"
        }
      ]
    }
  ]
}