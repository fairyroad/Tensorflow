{
  "nbformat": 4,
  "nbformat_minor": 0,
  "metadata": {
    "colab": {
      "name": "Softmax Classifier.ipynb",
      "provenance": [],
      "toc_visible": true,
      "authorship_tag": "ABX9TyMHxHxgvA2MgKs8yBghX6fh",
      "include_colab_link": true
    },
    "kernelspec": {
      "name": "python3",
      "display_name": "Python 3"
    }
  },
  "cells": [
    {
      "cell_type": "markdown",
      "metadata": {
        "id": "view-in-github",
        "colab_type": "text"
      },
      "source": [
        "<a href=\"https://colab.research.google.com/github/fairyroad/Tensorflow/blob/main/Softmax_Classifier.ipynb\" target=\"_parent\"><img src=\"https://colab.research.google.com/assets/colab-badge.svg\" alt=\"Open In Colab\"/></a>"
      ]
    },
    {
      "cell_type": "markdown",
      "metadata": {
        "id": "bPJbrKcSa1cp"
      },
      "source": [
        "#1.Softmax Classifier"
      ]
    },
    {
      "cell_type": "code",
      "metadata": {
        "id": "so7LkXXbVTxQ"
      },
      "source": [
        "import numpy as np\r\n",
        "import tensorflow as tf"
      ],
      "execution_count": 2,
      "outputs": []
    },
    {
      "cell_type": "markdown",
      "metadata": {
        "id": "Iafmq77VVbBI"
      },
      "source": [
        "numpy는 dynamic typing을 지원하지 않음(다양한 data type이 섞일 수 없음!!)  \r\n",
        "dtype은 data type 변환"
      ]
    },
    {
      "cell_type": "code",
      "metadata": {
        "id": "dnHZD2aNPhNg"
      },
      "source": [
        "x_data=[[1,2,1,1],\r\n",
        "        [2,1,3,2],\r\n",
        "        [3,1,3,4],\r\n",
        "        [4,1,5,5],\r\n",
        "        [1,7,5,5],\r\n",
        "        [1,2,5,6],\r\n",
        "        [1,6,6,6],\r\n",
        "        [1,7,7,7]]\r\n",
        "\r\n",
        "y_data=[[0,0,1],\r\n",
        "       [0,0,1],\r\n",
        "       [0,0,1],\r\n",
        "       [0,1,0],\r\n",
        "       [0,1,0],\r\n",
        "       [0,1,0],\r\n",
        "       [1,0,0],\r\n",
        "       [1,0,0]]\r\n",
        "\r\n",
        "#convert into numpy and float format\r\n",
        "#np.array랑 차이점은 data type이 다를때만 copy가능\r\n",
        "x_data=np.asarray(x_data,dtype=np.float32)\r\n",
        "y_data=np.asarray(y_data,dtype=np.float32)\r\n",
        "\r\n",
        "#num classes\r\n",
        "nb_classes=3"
      ],
      "execution_count": 4,
      "outputs": []
    },
    {
      "cell_type": "code",
      "metadata": {
        "colab": {
          "base_uri": "https://localhost:8080/"
        },
        "id": "iB8FMKUqXHpI",
        "outputId": "c1a7ecfa-4c10-42ce-cdc9-7b0e5de2d0ed"
      },
      "source": [
        "#initialize weight and bias\r\n",
        "\r\n",
        "W=tf.Variable(tf.random.normal([4,nb_classes]),name='weight')\r\n",
        "b=tf.Variable(tf.random.normal([nb_classes]),name='bias')\r\n",
        "variables=[W,b]\r\n",
        "\r\n",
        "#softmax\r\n",
        "hypothesis=tf.nn.softmax(tf.matmul(x_data,W)+b)\r\n",
        "print(hypothesis)"
      ],
      "execution_count": 9,
      "outputs": [
        {
          "output_type": "stream",
          "text": [
            "tf.Tensor(\n",
            "[[8.5686952e-01 1.2569181e-03 1.4187355e-01]\n",
            " [8.3805108e-01 4.0561943e-03 1.5789279e-01]\n",
            " [8.7829006e-01 1.1070383e-03 1.2060300e-01]\n",
            " [8.6580509e-01 5.0299556e-04 1.3369200e-01]\n",
            " [5.6574225e-01 1.6800500e-07 4.3425763e-01]\n",
            " [5.1952004e-01 2.9963334e-03 4.7748366e-01]\n",
            " [4.6366587e-01 1.3767929e-06 5.3633267e-01]\n",
            " [3.7004775e-01 2.1439185e-07 6.2995195e-01]], shape=(8, 3), dtype=float32)\n"
          ],
          "name": "stdout"
        }
      ]
    },
    {
      "cell_type": "code",
      "metadata": {
        "id": "q3wtBNRtZQAq"
      },
      "source": [
        "#cost function\r\n",
        "#ylog(y_hat)\r\n",
        "cost=tf.reduce_mean(-tf.reduce_sum(y_data*tf.log(hypothesis),axis=1))\r\n",
        "optimizer=tf.train.GradientDesceptOptimizer(learning_rate=0.1).minimize(cost)"
      ],
      "execution_count": null,
      "outputs": []
    }
  ]
}